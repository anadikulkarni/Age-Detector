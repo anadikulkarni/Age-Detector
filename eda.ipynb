{
 "cells": [
  {
   "cell_type": "code",
   "execution_count": 1,
   "metadata": {},
   "outputs": [
    {
     "name": "stderr",
     "output_type": "stream",
     "text": [
      "/Users/anadikulkarni/Documents/GitHub/Age-Detector/myenv/lib/python3.13/site-packages/tqdm/auto.py:21: TqdmWarning: IProgress not found. Please update jupyter and ipywidgets. See https://ipywidgets.readthedocs.io/en/stable/user_install.html\n",
      "  from .autonotebook import tqdm as notebook_tqdm\n"
     ]
    },
    {
     "name": "stdout",
     "output_type": "stream",
     "text": [
      "Downloading from https://www.kaggle.com/api/v1/datasets/download/yuulind/imdb-clean?dataset_version_number=1...\n"
     ]
    },
    {
     "name": "stderr",
     "output_type": "stream",
     "text": [
      "100%|██████████| 6.83G/6.83G [11:18<00:00, 10.8MB/s]  "
     ]
    },
    {
     "name": "stdout",
     "output_type": "stream",
     "text": [
      "Extracting files...\n"
     ]
    },
    {
     "name": "stderr",
     "output_type": "stream",
     "text": [
      "\n"
     ]
    },
    {
     "name": "stdout",
     "output_type": "stream",
     "text": [
      "Path to dataset files: /Users/anadikulkarni/.cache/kagglehub/datasets/yuulind/imdb-clean/versions/1\n"
     ]
    }
   ],
   "source": [
    "import kagglehub\n",
    "\n",
    "# Download latest version\n",
    "path = kagglehub.dataset_download(\"yuulind/imdb-clean\")\n",
    "\n",
    "print(\"Path to dataset files:\", path)"
   ]
  },
  {
   "cell_type": "code",
   "execution_count": 3,
   "metadata": {},
   "outputs": [],
   "source": [
    "import numpy as np\n",
    "import pandas as pd\n",
    "import matplotlib.pyplot as plt\n",
    "import seaborn as sns"
   ]
  },
  {
   "cell_type": "code",
   "execution_count": 4,
   "metadata": {},
   "outputs": [],
   "source": [
    "train = pd.read_csv(\"imdb-clean-1024/imdb_train_new_1024.csv\")\n",
    "test = pd.read_csv(\"imdb-clean-1024/imdb_test_new_1024.csv\")\n",
    "valid = pd.read_csv(\"imdb-clean-1024/imdb_valid_new_1024.csv\")"
   ]
  },
  {
   "cell_type": "code",
   "execution_count": 5,
   "metadata": {},
   "outputs": [
    {
     "name": "stdout",
     "output_type": "stream",
     "text": [
      "                                        filename  age gender  x_min  y_min  \\\n",
      "0  05/nm0200005_rm3512895744_1959-12-24_2009.jpg   50      M   78.0   93.0   \n",
      "1   02/nm0001002_rm1464638208_1966-7-31_2006.jpg   40      M  123.0  175.0   \n",
      "2     00/nm0000100_rm103389184_1955-1-6_2005.jpg   50      M   52.0   70.0   \n",
      "3   04/nm0024404_rm2909178368_1978-2-20_2009.jpg   31      F   28.0   38.0   \n",
      "4      00/nm0703800_rm31823616_1959-6-6_2008.jpg   49      M   69.0  100.0   \n",
      "\n",
      "   x_max  y_max  head_roll   head_yaw  head_pitch  \n",
      "0  155.0  185.0  20.134891 -34.811884   -5.720485  \n",
      "1  245.0  349.0  11.789708  23.570937  -18.610900  \n",
      "2  103.0  139.0   0.209951 -20.153913  -13.759556  \n",
      "3   55.0   75.0   9.971704 -10.203414   -1.376687  \n",
      "4  137.0  199.0   5.041017  14.441552   12.871575  \n"
     ]
    }
   ],
   "source": [
    "print(train[0:5])"
   ]
  },
  {
   "cell_type": "code",
   "execution_count": null,
   "metadata": {},
   "outputs": [],
   "source": []
  }
 ],
 "metadata": {
  "kernelspec": {
   "display_name": "myenv",
   "language": "python",
   "name": "python3"
  },
  "language_info": {
   "codemirror_mode": {
    "name": "ipython",
    "version": 3
   },
   "file_extension": ".py",
   "mimetype": "text/x-python",
   "name": "python",
   "nbconvert_exporter": "python",
   "pygments_lexer": "ipython3",
   "version": "3.13.2"
  }
 },
 "nbformat": 4,
 "nbformat_minor": 2
}
